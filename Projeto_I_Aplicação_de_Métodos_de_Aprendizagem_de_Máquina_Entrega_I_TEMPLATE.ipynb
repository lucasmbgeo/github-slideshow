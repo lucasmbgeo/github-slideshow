{
  "nbformat": 4,
  "nbformat_minor": 0,
  "metadata": {
    "colab": {
      "name": "Projeto I - Aplicação de Métodos de Aprendizagem de Máquina  - Entrega I - TEMPLATE",
      "provenance": [],
      "include_colab_link": true
    },
    "kernelspec": {
      "name": "python3",
      "display_name": "Python 3"
    },
    "language_info": {
      "name": "python"
    }
  },
  "cells": [
    {
      "cell_type": "markdown",
      "metadata": {
        "id": "view-in-github",
        "colab_type": "text"
      },
      "source": [
        "<a href=\"https://colab.research.google.com/github/lucasmbgeo/github-slideshow/blob/master/Projeto_I_Aplica%C3%A7%C3%A3o_de_M%C3%A9todos_de_Aprendizagem_de_M%C3%A1quina_Entrega_I_TEMPLATE.ipynb\" target=\"_parent\"><img src=\"https://colab.research.google.com/assets/colab-badge.svg\" alt=\"Open In Colab\"/></a>"
      ]
    },
    {
      "cell_type": "markdown",
      "metadata": {
        "id": "5QQcoAZ0WVFy"
      },
      "source": [
        "**Identificação**: Nome completo (matrícula)\n",
        "\n",
        "\n",
        "\n",
        "# [Definição do Tema] Classificação de Textos de Notícias\n",
        "\n",
        "A Internet é a grande responsável pela explosão de informação. Até o mês de\n",
        "abril de 2020, os Web sites atingiram o número aproximado de 1 bilhão e 800 milhões 1 ,\n",
        "dos quais 12.500 são sites de notícias. Apenas o jornal americano *The Washington Post*,\n",
        "considerado um dos maiores jornais do mundo, publica, em média, diariamente, 500 textos\n",
        "entre artigos e notícias, acessados por milhões de pessoas em todo o mundo 2 . \n",
        "\n",
        "No cenário de grande volume de informação, a mineração de dados oriundos da Internet tem sido\n",
        "alvo de recentes pesquisas, pois reúne em seu ambiente, quase a totalidade dos tipos\n",
        "de estruturas, simples ou complexas, que existem, atendendo a diversas necessidades e\n",
        "possuindo diversos conteúdos e formatos.\n",
        "\n",
        "\n",
        "Em particular, os sites de notícias são fontes ricas em textos, que podem compor um corpus linguístico, a partir do qual podem ser realizadas as mais diversas análises de dados. Tendo em vista que na Web há muitos sites sem categoria, esse trabalho se propõe a realizar a avaliação de métodos de aprendizado de máquina para realizar a classificação de notícias\n",
        "\n",
        "\n",
        "\n",
        "\n",
        "> **Objetivo**\n",
        "\n",
        "Esse projeto tem como objetivo aplicar algoritmos de machine learning na categorização de textos de notícias\n",
        "\n",
        "> **Especificação Técnica**\n",
        "\n",
        "Dataset: Para desenvolvimento desse projeto, será utilizado o dataset\n",
        "denominado 20NewsGroups, disponível em: < https://kdd.ics.uci.edu/databases/20newsgroups/20newsgroups.html >.\n",
        "\n",
        "Formato: A base de dados está em formato CSV, estando divivida em duas colunas, texto e categoria. Podendo a categoria ser tratada como um número inteiro e depois associado a uma descrição. \n",
        "\n",
        "Métodos de Pŕe-processamento: A príncipio parece ser um dataset pequeno, entretanto, como se trata de dados textuais há o desafio de tratar esses dados. Sendo assim, destaca-se como os pré-processsamento os seguintes:\n",
        "* Limpeza da base, onde serão removidos termos do corpo do e-mail como <From> e <To>, remoção de espaços em branco e remoção de caracteres especiais. \n",
        "*Remoção de stop-words: remover as ditas palavras de parada, como uma forma de otimizar o desempenho dos algoritmos\n",
        "*Transformação para Bag of Words: Tendo como objetivo fazer com que os dados sejam compreendidos, será realizado a transformação do texto para Bag of Words \n",
        "\n",
        "\n",
        "Tarefa de Aprendizado: Será aplicado a tarefa de Classificação \n",
        "\n",
        "Algoritmos Avaliados: Serão avaliados os algoritmos KNN, Naïve Bayes e SVM. \n",
        "\n",
        "\n",
        " \n",
        "\n",
        "\n",
        "\n",
        "\n",
        "\n",
        "\n"
      ]
    }
  ]
}